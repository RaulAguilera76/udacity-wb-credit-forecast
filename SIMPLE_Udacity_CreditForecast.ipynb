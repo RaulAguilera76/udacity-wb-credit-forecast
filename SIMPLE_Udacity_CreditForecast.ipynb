{
 "cells": [
  {
   "cell_type": "code",
   "execution_count": null,
   "id": "97dfc6d1",
   "metadata": {},
   "outputs": [],
   "source": [
    "\n",
    "\n",
    "\n"
   ]
  },
  {
   "cell_type": "code",
   "execution_count": 1,
   "id": "bb98760b",
   "metadata": {},
   "outputs": [],
   "source": [
    "# STEP 0 — Imports (run as is)\n",
    "from pathlib import Path\n",
    "import pandas as pd, numpy as np\n",
    "import matplotlib.pyplot as plt\n",
    "\n",
    "from sklearn.preprocessing import StandardScaler\n",
    "from sklearn.compose import ColumnTransformer\n",
    "from sklearn.pipeline import Pipeline\n",
    "from sklearn.metrics import mean_absolute_error, mean_squared_error\n",
    "from sklearn.linear_model import LinearRegression, Ridge, Lasso\n",
    "from sklearn.ensemble import RandomForestRegressor\n"
   ]
  },
  {
   "cell_type": "code",
   "execution_count": 5,
   "id": "879739e0",
   "metadata": {},
   "outputs": [
    {
     "name": "stdout",
     "output_type": "stream",
     "text": [
      "DATA_DIR → /workspace/udacity-wb-credit-forecast/notebooks/udacity-wb-credit-forecast/notebooks/udacity-wb-credit-forecast/data/raw\n"
     ]
    },
    {
     "ename": "AssertionError",
     "evalue": "No se encontró credit_private_growth.csv en DATA_DIR.",
     "output_type": "error",
     "traceback": [
      "\u001b[0;31m---------------------------------------------------------------------------\u001b[0m",
      "\u001b[0;31mAssertionError\u001b[0m                            Traceback (most recent call last)",
      "Cell \u001b[0;32mIn[5], line 17\u001b[0m\n\u001b[1;32m      7\u001b[0m \u001b[38;5;66;03m# Si prefieres detección automática, descomenta el bloque de abajo:\u001b[39;00m\n\u001b[1;32m      8\u001b[0m \u001b[38;5;66;03m# for p in [Path(\"../data/raw\"),\u001b[39;00m\n\u001b[1;32m      9\u001b[0m \u001b[38;5;66;03m#           Path(\"udacity-wb-credit-forecast/data/raw\"),\u001b[39;00m\n\u001b[0;32m   (...)\u001b[0m\n\u001b[1;32m     13\u001b[0m \u001b[38;5;66;03m#         DATA_DIR = p\u001b[39;00m\n\u001b[1;32m     14\u001b[0m \u001b[38;5;66;03m#         break\u001b[39;00m\n\u001b[1;32m     16\u001b[0m \u001b[38;5;28mprint\u001b[39m(\u001b[38;5;124m\"\u001b[39m\u001b[38;5;124mDATA_DIR →\u001b[39m\u001b[38;5;124m\"\u001b[39m, DATA_DIR\u001b[38;5;241m.\u001b[39mresolve())\n\u001b[0;32m---> 17\u001b[0m \u001b[38;5;28;01massert\u001b[39;00m (DATA_DIR \u001b[38;5;241m/\u001b[39m \u001b[38;5;124m\"\u001b[39m\u001b[38;5;124mcredit_private_growth.csv\u001b[39m\u001b[38;5;124m\"\u001b[39m)\u001b[38;5;241m.\u001b[39mexists(), \\\n\u001b[1;32m     18\u001b[0m     \u001b[38;5;124m\"\u001b[39m\u001b[38;5;124mNo se encontró credit_private_growth.csv en DATA_DIR.\u001b[39m\u001b[38;5;124m\"\u001b[39m\n",
      "\u001b[0;31mAssertionError\u001b[0m: No se encontró credit_private_growth.csv en DATA_DIR."
     ]
    }
   ],
   "source": [
    "# HOTFIX: fija/detecta la carpeta de datos para que encuentre el target\n",
    "from pathlib import Path\n",
    "\n",
    "# Opción fija :\n",
    "DATA_DIR = Path(\"udacity-wb-credit-forecast/data/raw\")\n",
    "\n",
    "# Si prefieres detección automática, descomenta el bloque de abajo:\n",
    "# for p in [Path(\"../data/raw\"),\n",
    "#           Path(\"udacity-wb-credit-forecast/data/raw\"),\n",
    "#           Path(\"./udacity-wb-credit-forecast/data/raw\"),\n",
    "#           Path(\"./data/raw\")]:\n",
    "#     if (p / \"credit_private_growth.csv\").exists():\n",
    "#         DATA_DIR = p\n",
    "#         break\n",
    "\n",
    "print(\"DATA_DIR →\", DATA_DIR.resolve())\n",
    "assert (DATA_DIR / \"credit_private_growth.csv\").exists(), \\\n",
    "    \"No se encontró credit_private_growth.csv en DATA_DIR.\""
   ]
  },
  {
   "cell_type": "code",
   "execution_count": 6,
   "id": "a9b18b96",
   "metadata": {},
   "outputs": [
    {
     "name": "stdout",
     "output_type": "stream",
     "text": [
      "CWD: /workspace/udacity-wb-credit-forecast/notebooks/udacity-wb-credit-forecast/notebooks\n",
      "/workspace/udacity-wb-credit-forecast/notebooks/udacity-wb-credit-forecast/data/raw → False\n",
      "/workspace/udacity-wb-credit-forecast/notebooks/udacity-wb-credit-forecast/notebooks/udacity-wb-credit-forecast/data/raw → False\n",
      "/workspace/udacity-wb-credit-forecast/notebooks/udacity-wb-credit-forecast/notebooks/data/raw → False\n",
      "Using data from: /workspace/udacity-wb-credit-forecast/notebooks/udacity-wb-credit-forecast/data/raw\n"
     ]
    }
   ],
   "source": [
    "# STEP 1 — Project params (CAMBIA AQUI si quieres otro pais ISO3)\n",
    "COUNTRY = \"COL\"  # CAMBIA AQUI: ej \"MEX\", \"PER\", \"CHL\"\n",
    "DATA_DIR = Path(\"../data/raw\")\n",
    "from pathlib import Path\n",
    "print(\"CWD:\", Path.cwd())\n",
    "for p in [Path(\"../data/raw\"),\n",
    "          Path(\"udacity-wb-credit-forecast/data/raw\"),\n",
    "          Path(\"./data/raw\")]:\n",
    "    print(p.resolve(), \"→\", (p/\"credit_private_growth.csv\").exists())\n",
    "\n",
    "FIG_DIR = Path(\"../figures\"); FIG_DIR.mkdir(parents=True, exist_ok=True)\n",
    "\n",
    "FILES = {\n",
    "    \"credit_growth\": \"credit_private_growth.csv\",   # TARGET obligatorio\n",
    "    \"inflation\":     \"inflation_cpi.csv\",\n",
    "    \"lending_rate\":  \"lending_rate.csv\",\n",
    "    \"real_interest\": \"real_interest.csv\",\n",
    "    \"broad_money\":   \"broad_money.csv\",\n",
    "    \"unemployment\":  \"unemployment.csv\",\n",
    "    \"population\":    \"population_growth.csv\",       # opcional\n",
    "}\n",
    "print(\"Using data from:\", DATA_DIR.resolve())\n"
   ]
  },
  {
   "cell_type": "code",
   "execution_count": 7,
   "id": "56830c94",
   "metadata": {},
   "outputs": [
    {
     "ename": "AssertionError",
     "evalue": "Falta credit_private_growth.csv en ../data/raw/",
     "output_type": "error",
     "traceback": [
      "\u001b[0;31m---------------------------------------------------------------------------\u001b[0m",
      "\u001b[0;31mAssertionError\u001b[0m                            Traceback (most recent call last)",
      "Cell \u001b[0;32mIn[7], line 13\u001b[0m\n\u001b[1;32m     10\u001b[0m     \u001b[38;5;28;01mreturn\u001b[39;00m tidy\n\u001b[1;32m     12\u001b[0m available \u001b[38;5;241m=\u001b[39m {k:v \u001b[38;5;28;01mfor\u001b[39;00m k,v \u001b[38;5;129;01min\u001b[39;00m FILES\u001b[38;5;241m.\u001b[39mitems() \u001b[38;5;28;01mif\u001b[39;00m (DATA_DIR \u001b[38;5;241m/\u001b[39m v)\u001b[38;5;241m.\u001b[39mexists()}\n\u001b[0;32m---> 13\u001b[0m \u001b[38;5;28;01massert\u001b[39;00m \u001b[38;5;124m\"\u001b[39m\u001b[38;5;124mcredit_growth\u001b[39m\u001b[38;5;124m\"\u001b[39m \u001b[38;5;129;01min\u001b[39;00m available, \u001b[38;5;124m\"\u001b[39m\u001b[38;5;124mFalta credit_private_growth.csv en ../data/raw/\u001b[39m\u001b[38;5;124m\"\u001b[39m\n\u001b[1;32m     14\u001b[0m \u001b[38;5;28mprint\u001b[39m(\u001b[38;5;124m\"\u001b[39m\u001b[38;5;124mAvailable files:\u001b[39m\u001b[38;5;124m\"\u001b[39m, available)\n\u001b[1;32m     16\u001b[0m \u001b[38;5;28;01mfrom\u001b[39;00m \u001b[38;5;21;01mfunctools\u001b[39;00m \u001b[38;5;28;01mimport\u001b[39;00m reduce\n",
      "\u001b[0;31mAssertionError\u001b[0m: Falta credit_private_growth.csv en ../data/raw/"
     ]
    }
   ],
   "source": [
    "# STEP 2 — Load CSVs \n",
    "def load_wide(path, value_name):\n",
    "    df = pd.read_csv(path)\n",
    "    year_cols = [c for c in df.columns if str(c).isdigit()]\n",
    "    for c in year_cols:\n",
    "        df[c] = pd.to_numeric(df[c], errors=\"coerce\")\n",
    "    tidy = df[[\"Country Code\"] + year_cols].melt(id_vars=[\"Country Code\"], value_vars=year_cols,\n",
    "                                                 var_name=\"Year\", value_name=value_name)\n",
    "    tidy[\"Year\"] = tidy[\"Year\"].astype(int)\n",
    "    return tidy\n",
    "\n",
    "available = {k:v for k,v in FILES.items() if (DATA_DIR / v).exists()}\n",
    "assert \"credit_growth\" in available, \"Falta credit_private_growth.csv en ../data/raw/\"\n",
    "print(\"Available files:\", available)\n",
    "\n",
    "from functools import reduce\n",
    "dfs = [load_wide(DATA_DIR/v, k) for k,v in available.items()]\n",
    "merged = reduce(lambda L,R: pd.merge(L,R, on=[\"Country Code\",\"Year\"], how=\"outer\"), dfs)\n",
    "\n",
    "# filtro robusto (sin .query por el espacio en 'Country Code')\n",
    "df = merged.loc[merged[\"Country Code\"] == COUNTRY].sort_values(\"Year\").reset_index(drop=True)\n",
    "df.tail()\n"
   ]
  },
  {
   "cell_type": "code",
   "execution_count": null,
   "id": "96f71bce",
   "metadata": {},
   "outputs": [],
   "source": [
    "# STEP 3 — Quick EDA (time series)\n",
    "num_cols = [c for c in df.columns if c not in [\"Country Code\",\"Year\"]]\n",
    "eda = df[[\"Year\"] + num_cols].dropna()\n",
    "\n",
    "for col in num_cols:\n",
    "    plt.figure(figsize=(7,3))\n",
    "    plt.plot(eda[\"Year\"], eda[col])\n",
    "    plt.title(f\"{col} over time ({COUNTRY})\")\n",
    "    plt.xlabel(\"Year\"); plt.ylabel(col)\n",
    "    plt.tight_layout(); plt.savefig(FIG_DIR / f\"ts_{col}.png\"); plt.show()\n",
    "\n",
    "if len(num_cols) >= 2:\n",
    "    display(eda[num_cols].corr().round(2))\n"
   ]
  },
  {
   "cell_type": "code",
   "execution_count": null,
   "id": "4283e1a7",
   "metadata": {},
   "outputs": [],
   "source": [
    "# STEP 4 — Feature engineering (t -> predict t+1)\n",
    "feature_cols = [c for c in df.columns if c not in [\"Country Code\",\"Year\",\"credit_growth\"]]\n",
    "work = df[[\"Year\",\"credit_growth\"] + feature_cols].copy()\n",
    "work[\"target_t1\"] = work[\"credit_growth\"].shift(-1)\n",
    "\n",
    "data = work.dropna(subset=feature_cols + [\"target_t1\"]).copy()\n",
    "X = data[feature_cols]; y = data[\"target_t1\"]; years = data[\"Year\"].values\n",
    "print(f\"Samples: {len(data)} | Features: {feature_cols}\")\n"
   ]
  },
  {
   "cell_type": "code",
   "execution_count": null,
   "id": "38c2f14c",
   "metadata": {},
   "outputs": [],
   "source": [
    "# STEP 5 — Split time-aware + models\n",
    "n = len(data); split = max(int(n*0.8), n-5)\n",
    "X_train, X_test = X.iloc[:split], X.iloc[split:]\n",
    "y_train, y_test = y.iloc[:split], y.iloc[split:]\n",
    "years_test = years[split:]\n",
    "\n",
    "pre = ColumnTransformer([(\"num\", StandardScaler(), feature_cols)], remainder=\"drop\")\n",
    "\n",
    "candidates = {\n",
    "    \"LinearRegression\": LinearRegression(),\n",
    "    \"Ridge\": Ridge(alpha=1.0),\n",
    "    \"Lasso\": Lasso(alpha=0.05, max_iter=10000),\n",
    "    \"RandomForest\": RandomForestRegressor(n_estimators=400, random_state=42)\n",
    "}\n",
    "\n",
    "results, pipes = [], {}\n",
    "for name, est in candidates.items():\n",
    "    pipe = Pipeline([(\"prep\", pre), (\"model\", est)])\n",
    "    pipe.fit(X_train, y_train)\n",
    "    pred = pipe.predict(X_test)\n",
    "    mae = mean_absolute_error(y_test, pred)\n",
    "    rmse = mean_squared_error(y_test, pred, squared=False)\n",
    "    mape = float(np.mean(np.abs((y_test - pred)/(np.abs(y_test)+1e-6))) * 100)\n",
    "    results.append((name, mae, rmse, mape))\n",
    "    pipes[name] = (pipe, pred)\n",
    "\n",
    "res = pd.DataFrame(results, columns=[\"model\",\"MAE\",\"RMSE\",\"MAPE\"]).sort_values(\"RMSE\")\n",
    "display(res)\n",
    "best = res.iloc[0][\"model\"]\n",
    "best_pipe, best_pred = pipes[best]\n"
   ]
  },
  {
   "cell_type": "code",
   "execution_count": null,
   "id": "454b2152",
   "metadata": {},
   "outputs": [],
   "source": [
    "# STEP 6 — Plots + importance\n",
    "plt.figure(figsize=(8,3))\n",
    "plt.plot(years_test, y_test.values, marker=\"o\", label=\"Actual\")\n",
    "plt.plot(years_test, best_pred, marker=\"o\", label=\"Predicted\")\n",
    "plt.title(f\"Next-year credit growth — Actual vs Predicted ({COUNTRY}) [{best}]\")\n",
    "plt.xlabel(\"Year\"); plt.ylabel(\"Credit growth (t+1, %)\")\n",
    "plt.legend(); plt.tight_layout(); plt.savefig(FIG_DIR / \"pred_vs_actual.png\"); plt.show()\n",
    "\n",
    "if best in [\"LinearRegression\",\"Ridge\",\"Lasso\"]:\n",
    "    importances = pd.Series(best_pipe.named_steps[\"model\"].coef_, index=feature_cols).sort_values()\n",
    "else:\n",
    "    importances = pd.Series(best_pipe.named_steps[\"model\"].feature_importances_, index=feature_cols).sort_values()\n",
    "\n",
    "display(importances.sort_values(ascending=False))\n",
    "plt.figure(figsize=(6,3))\n",
    "importances.sort_values().plot(kind=\"barh\")\n",
    "plt.title(f\"Feature importance ({best})\")\n",
    "plt.tight_layout(); plt.savefig(FIG_DIR / \"feature_importance.png\"); plt.show()\n"
   ]
  },
  {
   "cell_type": "code",
   "execution_count": null,
   "id": "e7ebb274",
   "metadata": {},
   "outputs": [],
   "source": [
    "# STEP 7 — Scenario + save metrics\n",
    "latest_X = X.iloc[[-1]]\n",
    "latest_year = int(data.iloc[-1][\"Year\"])\n",
    "scenario = float(best_pipe.predict(latest_X)[0])\n",
    "\n",
    "metrics_tidy = res.copy()\n",
    "metrics_tidy.to_csv(FIG_DIR / \"metrics_table.csv\", index=False)\n",
    "res.set_index(\"model\").to_csv(FIG_DIR / \"summary_metrics.csv\")\n",
    "\n",
    "print(f\"Scenario: Using year {latest_year} macro data for {COUNTRY}, predicted next-year credit growth is {scenario:.2f}%.\")\n"
   ]
  },
  {
   "cell_type": "markdown",
   "id": "4b47fd37",
   "metadata": {},
   "source": [
    "## Copia para el README y el Blog (en inglés)\n",
    "Best model: **PEGA AQUI**\n",
    "RMSE / MAE / MAPE: **PEGA AQUI**\n",
    "Scenario (frase anterior): **PEGA AQUI**\n",
    "Las imagenes estan en ../figures/ (pred_vs_actual.png, feature_importance.png).\n"
   ]
  }
 ],
 "metadata": {
  "kernelspec": {
   "display_name": "Python 3 (ipykernel)",
   "language": "python",
   "name": "python3"
  },
  "language_info": {
   "codemirror_mode": {
    "name": "ipython",
    "version": 3
   },
   "file_extension": ".py",
   "mimetype": "text/x-python",
   "name": "python",
   "nbconvert_exporter": "python",
   "pygments_lexer": "ipython3",
   "version": "3.10.13"
  }
 },
 "nbformat": 4,
 "nbformat_minor": 5
}
